{
 "cells": [
  {
   "cell_type": "code",
   "execution_count": null,
   "id": "c66dc2e6",
   "metadata": {},
   "outputs": [],
   "source": [
    "# default_exp redis\n",
    "# hide\n",
    "\n",
    "_FNAME='redis'\n",
    "\n",
    "import unittest\n",
    "from unittest import mock\n",
    "from nbdev.showdoc import show_doc\n",
    "from nbdev.export import notebook2script\n",
    "import os\n",
    "TESTCASE = unittest.TestCase()\n",
    "_nbpath = os.path.join(_dh[0], _FNAME+'.ipynb')"
   ]
  },
  {
   "cell_type": "code",
   "execution_count": null,
   "id": "2e4ca925",
   "metadata": {},
   "outputs": [],
   "source": [
    "#export \n",
    "import scylla\n",
    "\n",
    "def start(version='latest', port=None, **kwargs):\n",
    "    image = \"redis:{}\".format(version)\n",
    "    if port:\n",
    "        ports = {6379: port}\n",
    "    else:\n",
    "        ports = [6379]\n",
    "    additional_kwargs = {}\n",
    "    additional_kwargs.update(kwargs)\n",
    "    container = scylla.run_container(image, ports=ports,\n",
    "                          **additional_kwargs)\n",
    "    scylla.block_for_command(container, cmd='redis-cli ping')\n",
    "    container = scylla.set_port_name(container, 6379, 'connection')\n",
    "    return container"
   ]
  },
  {
   "cell_type": "code",
   "execution_count": null,
   "id": "b9c7077b",
   "metadata": {},
   "outputs": [],
   "source": [
    "redis = start(container_name=\"test_redis\")\n",
    "redis.stop()"
   ]
  },
  {
   "cell_type": "code",
   "execution_count": null,
   "id": "e31be927",
   "metadata": {},
   "outputs": [
    {
     "name": "stdout",
     "output_type": "stream",
     "text": [
      "Converted redis.ipynb.\n"
     ]
    }
   ],
   "source": [
    "notebook2script(_nbpath)"
   ]
  }
 ],
 "metadata": {
  "kernelspec": {
   "display_name": "Python 3",
   "language": "python",
   "name": "python3"
  }
 },
 "nbformat": 4,
 "nbformat_minor": 5
}
