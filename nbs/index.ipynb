{
 "cells": [
  {
   "cell_type": "code",
   "execution_count": null,
   "metadata": {},
   "outputs": [],
   "source": [
    "#hide\n"
   ]
  },
  {
   "cell_type": "markdown",
   "metadata": {},
   "source": [
    "# Scylla\n",
    "\n",
    "> Spin up docker containers inline with python code for easier testing"
   ]
  },
  {
   "cell_type": "markdown",
   "metadata": {},
   "source": [
    "## Install\n",
    "```bash\n",
    "git clone https://github.com/talosiot/scylla.git\n",
    "make env\n",
    "```"
   ]
  },
  {
   "cell_type": "code",
   "execution_count": null,
   "metadata": {},
   "outputs": [],
   "source": [
    "from IPython.core.display import display, HTML\n",
    "import requests\n",
    "\n",
    "import scylla"
   ]
  },
  {
   "cell_type": "markdown",
   "metadata": {},
   "source": [
    "Run a docker container.  If there are ports that the container needs, specify them in a list.  If you want to wait until a certain port is available, you can specify that here as well.  For example, to run a small web server you need port 80 and you want to wait until it is available."
   ]
  },
  {
   "cell_type": "code",
   "execution_count": null,
   "metadata": {},
   "outputs": [
    {
     "data": {
      "text/plain": [
       "{'80/tcp': [{'HostIp': '0.0.0.0', 'HostPort': '8228'}]}"
      ]
     },
     "execution_count": null,
     "metadata": {},
     "output_type": "execute_result"
    }
   ],
   "source": [
    "container = scylla.run_container(image='httpd:alpine', ports=[80], block_until_port_available=80)\n",
    "container.ports"
   ]
  },
  {
   "cell_type": "markdown",
   "metadata": {},
   "source": [
    "The container is running and you can interact with it."
   ]
  },
  {
   "cell_type": "code",
   "execution_count": null,
   "metadata": {},
   "outputs": [
    {
     "name": "stdout",
     "output_type": "stream",
     "text": [
      "<html><body><h1>It works!</h1></body></html>\n",
      "\n"
     ]
    },
    {
     "data": {
      "text/html": [
       "<html><body><h1>It works!</h1></body></html>\n"
      ],
      "text/plain": [
       "<IPython.core.display.HTML object>"
      ]
     },
     "metadata": {},
     "output_type": "display_data"
    }
   ],
   "source": [
    "host_d = scylla.lookup_host(container, container_port=80)\n",
    "url = 'http://{HostIp}:{HostPort}'.format(**host_d)\n",
    "resp = requests.get(url)\n",
    "print(resp.text)\n",
    "display(HTML(resp.text))"
   ]
  },
  {
   "cell_type": "markdown",
   "metadata": {},
   "source": [
    "Stop the container any time.  Or, it will automatically stop at the end of the program."
   ]
  },
  {
   "cell_type": "code",
   "execution_count": null,
   "metadata": {},
   "outputs": [],
   "source": [
    "container.stop()"
   ]
  }
 ],
 "metadata": {
  "kernelspec": {
   "display_name": "Python 3",
   "language": "python",
   "name": "python3"
  }
 },
 "nbformat": 4,
 "nbformat_minor": 4
}
