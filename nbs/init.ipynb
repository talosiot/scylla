{
 "cells": [
  {
   "cell_type": "code",
   "execution_count": null,
   "metadata": {},
   "outputs": [],
   "source": [
    "# default_exp __init__\n",
    "# hide\n",
    "\n",
    "_FNAME='init'\n",
    "\n",
    "import unittest\n",
    "from unittest import mock\n",
    "from nbdev.showdoc import show_doc\n",
    "from nbdev.export import notebook2script\n",
    "import os\n",
    "TESTCASE = unittest.TestCase()\n",
    "_nbpath = os.path.join(_dh[0], _FNAME+'.ipynb')"
   ]
  },
  {
   "cell_type": "markdown",
   "metadata": {},
   "source": [
    "# Port management\n",
    "You should be able to start two of the same container.  To do this we will randomize the ports on the host machine, and map them to predictable ports in the container."
   ]
  },
  {
   "cell_type": "code",
   "execution_count": null,
   "metadata": {},
   "outputs": [],
   "source": [
    "#export \n",
    "import socket\n",
    "import atexit\n",
    "import docker\n",
    "import uuid\n",
    "import logging\n",
    "import random\n",
    "from numbers import Number\n",
    "\n",
    "import requests\n",
    "from retrying import retry\n",
    "logger = logging.getLogger()\n",
    "\n",
    "def check_if_port_is_bound(port_number):\n",
    "    '''\n",
    "    Attempts to bind a socket.  One of two things will happen\n",
    "    - Nothing.  The socket is open\n",
    "    - OSError.  The socket is in use\n",
    "    '''\n",
    "    s = socket.socket(socket.AF_INET, socket.SOCK_STREAM)    \n",
    "    s.bind(('', port_number))\n",
    "    s.close()    \n",
    "\n",
    "@retry(stop_max_attempt_number=50)\n",
    "def get_random_port_numbers(start, end, quantity=1):\n",
    "    '''\n",
    "    gives you sequential port numbers.\n",
    "    Randomly tries sequences of ports until it finds an open sequence.\n",
    "    '''\n",
    "    starting_number = random.randint(start, end-quantity)\n",
    "    port_numbers = list(range(starting_number, starting_number+quantity))\n",
    "    for port_number in port_numbers:\n",
    "        check_if_port_is_bound(port_number)\n",
    "    return port_numbers\n",
    "    "
   ]
  },
  {
   "cell_type": "code",
   "execution_count": null,
   "metadata": {},
   "outputs": [],
   "source": [
    "def test_random_ports():\n",
    "    #bind the socket at the start of the test\n",
    "    s30k = socket.socket(socket.AF_INET, socket.SOCK_STREAM)    \n",
    "    s30k.bind(('', 30000))\n",
    "    s30k1 = socket.socket(socket.AF_INET, socket.SOCK_STREAM)    \n",
    "    s30k1.bind(('', 30001))\n",
    "    \n",
    "    with TESTCASE.assertRaises(OSError):\n",
    "        get_random_port_numbers(30000, 30002, 1)\n",
    "        \n",
    "    port = get_random_port_numbers(30000, 30003, 1)\n",
    "    #the random is not inclusive of the \"end\" number\n",
    "    TESTCASE.assertEqual(port, [30002])\n",
    "        \n",
    "    s30k.close()\n",
    "    s30k1.close()\n",
    "        \n",
    "test_random_ports()"
   ]
  },
  {
   "cell_type": "markdown",
   "metadata": {},
   "source": [
    "The docker python bindings has a syntax for ports that looks like this\n",
    "`{container port: host port}`.  We will maintain that syntax here for our port pairs so that we can pass it in directly."
   ]
  },
  {
   "cell_type": "code",
   "execution_count": null,
   "metadata": {},
   "outputs": [],
   "source": [
    "#export \n",
    "def generate_port_pairings(ports, min_port, max_port):\n",
    "    '''\n",
    "    Create a dictionary that is compatible with the docker interface\n",
    "    that describes the ports\n",
    "    {container_port: host_port}  e.g.\n",
    "    {2222:3333} exposes port 2222 in the container to the host's 3333\n",
    "    https://docker-py.readthedocs.io/en/stable/containers.html\n",
    "    '''\n",
    "    port_pairs = {}\n",
    "    ports = [] if ports is None else ports\n",
    "\n",
    "    if isinstance(ports, Number):\n",
    "        quantity = 1\n",
    "        ports = [ports]\n",
    "    else:\n",
    "        quantity = len(ports)\n",
    "    \n",
    "    host_ports = get_random_port_numbers(min_port, max_port, quantity=quantity)\n",
    "    for index, container_port in enumerate(ports):\n",
    "        host_port = host_ports[index]\n",
    "        port_pairs[container_port] = host_port\n",
    "        \n",
    "    return port_pairs\n"
   ]
  },
  {
   "cell_type": "code",
   "execution_count": null,
   "metadata": {},
   "outputs": [],
   "source": [
    "def test_port_pairs():\n",
    "    #random.seed(42)\n",
    "    pp = generate_port_pairings([7688, 7999], min_port=5000, max_port=6000)\n",
    "    TESTCASE.assertEqual(len(pp), 2)\n",
    "\n",
    "    pp = generate_port_pairings([80, 8888, 423], min_port=5000, max_port=6000)\n",
    "    TESTCASE.assertEqual(len(pp), 3)\n",
    "    \n",
    "    pp = generate_port_pairings([80], min_port=5000, max_port=6000)\n",
    "    TESTCASE.assertEqual(len(pp), 1)\n",
    "\n",
    "test_port_pairs()"
   ]
  },
  {
   "cell_type": "markdown",
   "metadata": {},
   "source": [
    "The docker interface gives very complete information about the ports.  For example\n",
    "`{'7443/tcp': [{'HostIp': '0.0.0.0', 'HostPort': '7841'}]`.  For our purposes, this is often too much.  Give some syntactic sugar to easily access just the host or just the port number"
   ]
  },
  {
   "cell_type": "code",
   "execution_count": null,
   "metadata": {},
   "outputs": [],
   "source": [
    "#export\n",
    "def lookup_host(container, container_port, protocol='tcp'):\n",
    "    port_str = '{}/{}'.format(container_port, protocol)\n",
    "    return container.ports[port_str][0]\n",
    "\n",
    "def lookup_host_port(container, container_port, protocol='tcp'):\n",
    "    hostport = lookup_host(container, container_port, protocol='tcp')['HostPort']\n",
    "    return int(hostport)\n",
    "\n",
    "def lookup_socket_name(container, container_port, protocol='tcp'):\n",
    "    hostport = lookup_host(container, container_port, protocol=protocol)\n",
    "    return '{HostIp}:{HostPort}'.format(**hostport)"
   ]
  },
  {
   "cell_type": "code",
   "execution_count": null,
   "metadata": {},
   "outputs": [],
   "source": [
    "def test_lookups():\n",
    "    class FakeContainer:\n",
    "        pass\n",
    "    fc = FakeContainer\n",
    "    fc.ports={'7443/tcp': [{'HostIp': '0.0.0.0', 'HostPort': '7841'}]}\n",
    "    TESTCASE.assertDictEqual(lookup_host(fc, 7443), {'HostIp': '0.0.0.0', 'HostPort': '7841'})\n",
    "    TESTCASE.assertEqual(lookup_host_port(fc, 7443), 7841)\n",
    "    TESTCASE.assertEqual(lookup_socket_name(fc, 7443, ), '0.0.0.0:7841')\n",
    "\n",
    "test_lookups()              "
   ]
  },
  {
   "cell_type": "markdown",
   "metadata": {},
   "source": [
    "We introduce `NamedPorts` here to make finding the appropriate port easier.  Here's the use case.  Suppose you are using a database system that exposes 3 different ports: an http interface, an https interface, and the actual database connection.  You would normally have to depend on the special port numbers to find the port you want.  However if we name them, say, `['http', 'https', 'db']` then you know you always have to connect to the named port `db`."
   ]
  },
  {
   "cell_type": "code",
   "execution_count": null,
   "metadata": {},
   "outputs": [],
   "source": [
    "#export\n",
    "class NamedPorts:\n",
    "    def __init__(self):\n",
    "        self.mapping = {}\n",
    "    def add_port(self, name, port_num):\n",
    "        self.mapping[name] = port_num\n",
    "        #setattr(self, name, port_num)\n",
    "    def __getattr__(self, name):\n",
    "        try:\n",
    "            return self.mapping[name]\n",
    "        except KeyError:\n",
    "            raise AttributeError\n",
    "        \n",
    "def set_port_name(container, container_port, name):\n",
    "    hostport = lookup_host_port(container, container_port)\n",
    "    try:\n",
    "        named_ports = container.port\n",
    "    except AttributeError:\n",
    "        named_ports = NamedPorts()\n",
    "    \n",
    "    #set the name of the named port\n",
    "    named_ports.add_port(name, hostport)\n",
    "    container.port = named_ports\n",
    "    return container\n"
   ]
  },
  {
   "cell_type": "code",
   "execution_count": null,
   "metadata": {},
   "outputs": [],
   "source": [
    "def test_lookup_host_port():\n",
    "    class FakeContainer:\n",
    "        def __init__(self, ports):\n",
    "            self.ports = ports\n",
    "    ports = {'7443/tcp': [{'HostIp': '0.0.0.0', 'HostPort': '7841'}],\n",
    "             '7473/tcp': None,\n",
    "             '7474/tcp': [{'HostIp': '0.0.0.0', 'HostPort': '7840'}],\n",
    "             '7687/tcp': [{'HostIp': '0.0.0.0', 'HostPort': '7839'}]}\n",
    "    fc = FakeContainer(ports)\n",
    "    TESTCASE.assertEqual(lookup_host_port(fc, 7443), 7841)\n",
    "    TESTCASE.assertEqual(lookup_host_port(fc, 7687), 7839)    \n",
    "test_lookup_host_port()"
   ]
  },
  {
   "cell_type": "markdown",
   "metadata": {},
   "source": [
    "# Containers\n",
    "\n",
    "A general function that spins up any docker image as a container.  It has the following properties.\n",
    "\n",
    "- ports.  You can either specify the ports exactly, or get random ports\n",
    "- persist.  The docker container will shut down by default at the end of the python program.  This is what you want most of the time.\n",
    "- blocking.  Most of the time you want the program to block (wait) until the container is fully available.  This is checked by doing a request.get against a certain port.  e.g. Grafana is available when I can request.get the login page.\n",
    "- environment.  Pass in a dictionary to set environment variables inside the container."
   ]
  },
  {
   "cell_type": "code",
   "execution_count": null,
   "metadata": {},
   "outputs": [],
   "source": [
    "#export \n",
    "\n",
    "@retry(wait_fixed=1000, stop_max_attempt_number=30)\n",
    "def block_for_startup(container, container_port):\n",
    "    '''\n",
    "    Keep trying http get until the container is available and serves content\n",
    "    '''\n",
    "    host = lookup_host(container, container_port)\n",
    "    logger.debug(\"Waiting for avilability of {host}\".format(host=host))\n",
    "    resp = requests.get(\"http://{HostIp}:{HostPort}\".format(**host))\n",
    "    return resp\n",
    "\n",
    "def run_container(image, container_name=None, \n",
    "                  ports=None, min_port=6000, max_port=10000, \n",
    "                  persist=False, docker_client=None,\n",
    "                  block_until_port_available=None,\n",
    "                  environment=None, \n",
    "                  **kwargs):\n",
    "    '''\n",
    "    ports is either \n",
    "        - a port number \n",
    "        - list of port numbers you need inside the container.  The ports on the host will be randomized\n",
    "        - a dictionary of the port number mappings you want in the form of container:host\n",
    "    environment: dict\n",
    "        key:value pairs of environment variables for the container\n",
    "        \n",
    "    block_until_port_available: int\n",
    "        try to requests.get this port until it is successful or times out multiple times\n",
    "        \n",
    "    any additional kwargs will be passed directly into the docker.run command\n",
    "    https://docker-py.readthedocs.io/en/stable/containers.html\n",
    "    '''\n",
    "    client = docker_client if docker_client is not None else docker.from_env()\n",
    "    container_name = container_name or uuid.uuid4().hex\n",
    "    try:\n",
    "        container = client.containers.get(container_name)\n",
    "    except docker.errors.NotFound:\n",
    "        docker_run_kwargs = dict(image=image,\n",
    "                             remove=True, detach=True, auto_remove=True,\n",
    "                             name=container_name)\n",
    "        if environment:\n",
    "            docker_run_kwargs['environment'] = environment\n",
    "\n",
    "        if isinstance(ports, dict):\n",
    "            docker_run_kwargs['ports'] = ports\n",
    "        else:\n",
    "            port_pairs = generate_port_pairings(ports, min_port, max_port)\n",
    "            docker_run_kwargs['ports'] = port_pairs\n",
    "\n",
    "        docker_run_kwargs.update(kwargs)\n",
    "        container = client.containers.run(**docker_run_kwargs)\n",
    "\n",
    "    if not persist:\n",
    "        atexit.register(container.stop)\n",
    "        \n",
    "    container.reload()\n",
    "    \n",
    "    if block_until_port_available:\n",
    "        block_for_startup(container, container_port=block_until_port_available)\n",
    "    return container"
   ]
  },
  {
   "cell_type": "markdown",
   "metadata": {},
   "source": [
    "Heres a design pattern of how you might want to package up specific containers."
   ]
  },
  {
   "cell_type": "code",
   "execution_count": null,
   "metadata": {},
   "outputs": [],
   "source": [
    "def run_httpd(version='alpine', port=None, **kwargs):\n",
    "    image = \"httpd:{}\".format(version)\n",
    "    if port:\n",
    "        ports = {80: port}\n",
    "    else:\n",
    "        ports = [80]\n",
    "    additional_kwargs = {}\n",
    "    additional_kwargs.update(kwargs)\n",
    "    container = run_container(image, ports=ports, \n",
    "                          block_until_port_available=80,\n",
    "                          **additional_kwargs)\n",
    "    container = set_port_name(container, 80, 'http')\n",
    "    return container"
   ]
  },
  {
   "cell_type": "code",
   "execution_count": null,
   "metadata": {},
   "outputs": [],
   "source": [
    "\n",
    "def test_blocking_until():\n",
    "    c1 = run_httpd()\n",
    "    resp = block_for_startup(c1, 80)\n",
    "    TESTCASE.assertEqual(resp.status_code, 200)    \n",
    "    c1.stop()\n",
    "test_blocking_until()"
   ]
  },
  {
   "cell_type": "code",
   "execution_count": null,
   "metadata": {},
   "outputs": [],
   "source": [
    "def test_multiple_containers_colliding():\n",
    "    #multiple containers with exactly the same port mapping should fail\n",
    "    with TESTCASE.assertRaises(docker.errors.APIError):\n",
    "        c1 = run_httpd(port=8080)\n",
    "        c2 = run_httpd(port=8080)\n",
    "    \n",
    "    c1.stop()\n",
    "    try:\n",
    "        #just in case made for some strange reason\n",
    "        c2.stop()\n",
    "    except UnboundLocalError:\n",
    "        pass\n",
    "    \n",
    "def test_run_multiple_containers():\n",
    "    #should succeed\n",
    "    c1 = run_httpd()\n",
    "    c2 = run_httpd()\n",
    "\n",
    "    #because they have different (random) ports\n",
    "    TESTCASE.assertNotEqual(c1.port.http, c2.port.http)\n",
    "    \n",
    "    c1.stop()\n",
    "    c2.stop()\n",
    "    \n",
    "test_run_multiple_containers()\n",
    "test_multiple_containers_colliding()"
   ]
  },
  {
   "cell_type": "markdown",
   "metadata": {},
   "source": [
    "If you specify the container_name as an argument, docker will first look for containers with that name and return it to you.  This will not spin up two different containers."
   ]
  },
  {
   "cell_type": "code",
   "execution_count": null,
   "metadata": {},
   "outputs": [],
   "source": [
    "def test_retrieve_same_container():\n",
    "    c1 = run_httpd(container_name=\"unittest_alpine\")\n",
    "    c2 = run_httpd(container_name=\"unittest_alpine\")\n",
    "    \n",
    "    TESTCASE.assertEqual(c1.id, c2.id)\n",
    "    c1.stop()\n",
    "    try:\n",
    "        c2.stop()\n",
    "    except docker.errors.NotFound:\n",
    "        pass\n",
    "    #I think there is a race condition where sometimes this fails\n",
    "\n",
    "test_retrieve_same_container()"
   ]
  },
  {
   "cell_type": "code",
   "execution_count": null,
   "metadata": {},
   "outputs": [
    {
     "name": "stdout",
     "output_type": "stream",
     "text": [
      "Converted init.ipynb.\n"
     ]
    }
   ],
   "source": [
    "notebook2script(_nbpath)"
   ]
  }
 ],
 "metadata": {
  "kernelspec": {
   "display_name": "Python 3",
   "language": "python",
   "name": "python3"
  }
 },
 "nbformat": 4,
 "nbformat_minor": 4
}
